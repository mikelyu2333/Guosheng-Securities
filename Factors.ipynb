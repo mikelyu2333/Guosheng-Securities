{
 "cells": [
  {
   "cell_type": "code",
   "execution_count": 1,
   "id": "943734b8",
   "metadata": {},
   "outputs": [],
   "source": [
    "from scipy.io import loadmat\n",
    "import numpy as np\n",
    "import pandas as pd\n",
    "import matplotlib.pyplot as plt\n",
    "import datetime\n",
    "import calendar\n",
    "import os\n",
    "import psutil\n",
    "import math"
   ]
  },
  {
   "cell_type": "code",
   "execution_count": 2,
   "id": "49543fac",
   "metadata": {},
   "outputs": [],
   "source": [
    "fileDrive = r'C:\\Users\\mikel\\Desktop\\Guosheng\\Daily'\n",
    "#fileDrive = 'D:\\\\HKUST\\\\GuoshenIntern\\\\Redo\\\\RawData\\\\'\n",
    "startDay = 20130327\n",
    "endDay = 20180105 + 1\n",
    "offsetWindow = 60\n",
    "tradingDateAll = loadmat(os.path.join(fileDrive,'TradingDate_Daily.mat'))['TradingDate_Daily'][:,0]    # one column, a row per day\n",
    "startDayIndex = np.array(np.where(tradingDateAll>=startDay))[0][0]\n",
    "endDayIndex = np.array(np.where(tradingDateAll>=endDay))[0][0]\n",
    "tradingDate = tradingDateAll[startDayIndex : endDayIndex]"
   ]
  },
  {
   "cell_type": "code",
   "execution_count": 3,
   "id": "380bdf54",
   "metadata": {},
   "outputs": [
    {
     "data": {
      "text/plain": [
       "1166"
      ]
     },
     "execution_count": 3,
     "metadata": {},
     "output_type": "execute_result"
    }
   ],
   "source": [
    "# trading days in the sample period\n",
    "endDayIndex - startDayIndex"
   ]
  },
  {
   "cell_type": "code",
   "execution_count": 4,
   "id": "bba600e3",
   "metadata": {},
   "outputs": [],
   "source": [
    "allStockCode = pd.Series(loadmat(os.path.join(fileDrive,'AllStockCode.mat'))['AllStockCode'][0])\n",
    "allStockCode = allStockCode.apply(lambda x : x[0]).values"
   ]
  },
  {
   "cell_type": "code",
   "execution_count": null,
   "id": "0f322f8a",
   "metadata": {},
   "outputs": [],
   "source": [
    "%%time\n",
    "# lambda method  1.6minutes\n",
    "zz500 = pd.read_excel(os.path.join(fileDrive,'指数成分股 300&500.xlsx'),sheet_name='中证500',header = 0)\n",
    "isIndexDF = pd.DataFrame(data = None,index=tradingDate,columns=allStockCode, dtype=np.int8)\n",
    "def isIndex(theDate):\n",
    "    col_index = (theDate//10000 - 2007)*12 + theDate//100%100 - 1\n",
    "    stockList = zz500.iloc[:,col_index].values\n",
    "    temp = pd.Series(allStockCode,index=allStockCode)\n",
    "    temp = temp.apply(lambda x : 1 if x in stockList else 0)\n",
    "    return temp\n",
    "isIndexDF = isIndexDF.apply(lambda x : isIndex(x.name), axis = 1)\n",
    "isIndexDF.to_csv(os.path.join(fileDrive,'isIndexDF.csv'), header=True, index=True)"
   ]
  },
  {
   "cell_type": "code",
   "execution_count": 5,
   "id": "ef2a86cc",
   "metadata": {},
   "outputs": [],
   "source": [
    "isIndexDF = pd.read_csv(os.path.join(fileDrive,'isIndexDF.csv'),header=0,index_col=0)"
   ]
  },
  {
   "cell_type": "code",
   "execution_count": 6,
   "id": "9f32aee6",
   "metadata": {},
   "outputs": [],
   "source": [
    "openPrice = loadmat(os.path.join(fileDrive,'AllStock_DailyOpen_dividend.mat'))['AllStock_DailyOpen_dividend'][startDayIndex:endDayIndex]\n",
    "openPriceDF = pd.DataFrame(openPrice,index=tradingDate,columns=allStockCode)\n",
    "closePrice = loadmat(os.path.join(fileDrive,'AllStock_DailyClose_dividend.mat'))['AllStock_DailyClose_dividend'][startDayIndex:endDayIndex]\n",
    "closePriceDF = pd.DataFrame(closePrice,index=tradingDate,columns=allStockCode)\n",
    "lowPrice = loadmat(os.path.join(fileDrive,'AllStock_DailyLow_dividend.mat'))['AllStock_DailyLow_dividend'][startDayIndex:endDayIndex]\n",
    "lowPriceDF = pd.DataFrame(lowPrice,index=tradingDate,columns=allStockCode)\n",
    "dailyListedDate = loadmat(os.path.join(fileDrive,'AllStock_DailyListedDate.mat'))['AllStock_DailyListedDate'][startDayIndex:endDayIndex]\n",
    "dailyListedDateDF = pd.DataFrame(dailyListedDate,index=tradingDate,columns=allStockCode)\n",
    "dailyST = loadmat(os.path.join(fileDrive,'AllStock_DailyST.mat'))['AllStock_DailyST'][startDayIndex:endDayIndex]\n",
    "dailySTDF = pd.DataFrame(dailyST,index=tradingDate,columns=allStockCode)\n",
    "dailyStatus = loadmat(os.path.join(fileDrive,'AllStock_DailyStatus.mat'))['AllStock_DailyStatus_use'][startDayIndex:endDayIndex]\n",
    "dailyStatusDF = pd.DataFrame(dailyStatus,index=tradingDate,columns=allStockCode)\n",
    "dailyTR = loadmat(os.path.join(fileDrive,'AllStock_DailyTR.mat'))['AllStock_DailyTR'][startDayIndex:endDayIndex]\n",
    "dailyTRDF = pd.DataFrame(dailyTR,index=tradingDate,columns=allStockCode)"
   ]
  },
  {
   "cell_type": "code",
   "execution_count": 7,
   "id": "9f410928",
   "metadata": {},
   "outputs": [
    {
     "name": "stdout",
     "output_type": "stream",
     "text": [
      "当前进程的内存使用：1.0305 GB\n",
      "电脑总内存：15.8584 GB\n",
      "当前使用的总内存占比： 48.5\n"
     ]
    }
   ],
   "source": [
    "print(u'当前进程的内存使用：%.4f GB' % (psutil.Process(os.getpid()).memory_info().rss / 1024 / 1024 / 1024) )\n",
    "info = psutil.virtual_memory() \n",
    "print( u'电脑总内存：%.4f GB' % (info.total / 1024 / 1024 / 1024) ) \n",
    "print(u'当前使用的总内存占比：',info.percent) "
   ]
  },
  {
   "cell_type": "code",
   "execution_count": 8,
   "id": "57420d4c",
   "metadata": {},
   "outputs": [],
   "source": [
    "isValidDF = isIndexDF[(dailyListedDateDF > 60) & (openPriceDF != closePriceDF.shift(1)) & (dailySTDF == 0) & (dailyStatusDF == 1) & (dailyStatusDF.shift(1) == 1)]"
   ]
  },
  {
   "cell_type": "code",
   "execution_count": 9,
   "id": "a9f6036a",
   "metadata": {},
   "outputs": [
    {
     "data": {
      "text/plain": [
       "0.5079778412550682"
      ]
     },
     "execution_count": 9,
     "metadata": {},
     "output_type": "execute_result"
    }
   ],
   "source": [
    "diKai = isValidDF[openPriceDF < closePriceDF.shift(1)].sum().sum() / isValidDF.sum().sum() \n",
    "diKaiGaoZhou = isValidDF[(openPriceDF < closePriceDF.shift(1)) & (closePriceDF > openPriceDF)].sum().sum() / isValidDF[openPriceDF < closePriceDF.shift(1)].sum().sum()\n",
    "gaoKaiGaoZhou = isValidDF[(openPriceDF > closePriceDF.shift(1)) & (closePriceDF > openPriceDF)].sum().sum() / isValidDF[openPriceDF > closePriceDF.shift(1)].sum().sum()\n",
    "diKai\n",
    "diKaiGaoZhou\n",
    "gaoKaiGaoZhou"
   ]
  },
  {
   "cell_type": "code",
   "execution_count": 10,
   "id": "59e0815b",
   "metadata": {},
   "outputs": [],
   "source": [
    "# 重新定义isValid, 只选低开样本\n",
    "isValidDF = isIndexDF[(dailyListedDateDF > 60) & (openPriceDF < closePriceDF.shift(1)) & (openPriceDF/closePriceDF.shift(1) - 1 > -0.098) & (dailySTDF == 0) & (dailyStatusDF == 1) & (dailyStatusDF.shift(1) == 1) ]"
   ]
  },
  {
   "cell_type": "code",
   "execution_count": 11,
   "id": "e2637300",
   "metadata": {},
   "outputs": [],
   "source": [
    "dailyReturnDF = pd.DataFrame(None, index=tradingDate,columns=allStockCode)\n",
    "dailyReturnDF[isValidDF == 1] =  closePriceDF / openPriceDF - 1\n",
    "dailyReturnDF[(isValidDF == 1) & (lowPriceDF/closePriceDF.shift(1) - 1 < -0.098)] = lowPriceDF / openPrice - 1"
   ]
  },
  {
   "cell_type": "code",
   "execution_count": 12,
   "id": "5f15412d",
   "metadata": {},
   "outputs": [],
   "source": [
    "diKaiFuDuDF = pd.DataFrame(data = None,index=tradingDate,columns=allStockCode)\n",
    "diKaiFuDuDF[isValidDF == 1] = 1 - openPriceDF / closePriceDF.shift(periods=1, axis=0) \n",
    "# diKaiRankDF = pd.DataFrame(data = None,index=tradingDate,columns=allStockCode)   # maybe this line can be removed"
   ]
  },
  {
   "cell_type": "code",
   "execution_count": null,
   "id": "ac112797",
   "metadata": {},
   "outputs": [],
   "source": [
    "def diKaiBand(theDate):\n",
    "    return (diKaiFuDuDF.loc[theDate].rank()/diKaiFuDuDF.loc[theDate].count()*10).apply(lambda x: math.ceil(x) if x>0 else np.nan)\n",
    "diKaiBandDF = diKaiFuDuDF.apply(lambda x : diKaiBand(x.name), axis = 1)\n",
    "diKaiBandDF.to_csv(os.path.join(fileDrive,'diKaiBandDF.csv'), header=True, index=True)"
   ]
  },
  {
   "cell_type": "code",
   "execution_count": 13,
   "id": "d945448e",
   "metadata": {},
   "outputs": [],
   "source": [
    "diKaiBandDF = pd.read_csv(os.path.join(fileDrive,'diKaiBandDF.csv'), header=0, index_col=0)"
   ]
  },
  {
   "cell_type": "code",
   "execution_count": 14,
   "id": "2a59b0a3",
   "metadata": {},
   "outputs": [],
   "source": [
    "diKaiBandReturn = np.zeros(10)\n",
    "diKaiBandCount = np.zeros(10)\n",
    "for i in range(10):\n",
    "    diKaiBandReturn[i] = dailyReturnDF[diKaiBandDF==i+1].mean(axis=1).mean()\n",
    "    # diKaiBandCount[i] = dailyReturnDF[diKaiRankDF==i+1].apply(lambda x : 1 if x == i else 0).sum().sum()\n",
    "    diKaiBandCount[i] = (diKaiBandDF == i + 1).sum().sum()"
   ]
  },
  {
   "cell_type": "code",
   "execution_count": 15,
   "id": "8fd10407",
   "metadata": {},
   "outputs": [
    {
     "data": {
      "image/png": "[encoded data removed]",
      "text/plain": [
       "<Figure size 720x288 with 2 Axes>"
      ]
     },
     "metadata": {
      "needs_background": "light"
     },
     "output_type": "display_data"
    }
   ],
   "source": [
    "fig = plt.figure(figsize = [10,4])\n",
    "ax1 = fig.add_subplot(111)\n",
    "ax1.set_title('Dikai Fudu')\n",
    "ax1.bar(range(1,len(diKaiBandReturn)+1), diKaiBandReturn)\n",
    "ax2 = ax1.twinx()\n",
    "ax2.plot(range(1,len(diKaiBandReturn)+1), diKaiBandCount)\n",
    "ax2.set_yticks([i*5000 for i in range(7)])\n",
    "plt.show()"
   ]
  },
  {
   "cell_type": "code",
   "execution_count": 29,
   "id": "11989b64",
   "metadata": {},
   "outputs": [
    {
     "name": "stdout",
     "output_type": "stream",
     "text": [
      "CPU times: total: 13min 29s\n",
      "Wall time: 13min 34s\n"
     ]
    }
   ],
   "source": [
    "%%time\n",
    "# a time-consuming task, taking 20 minutes\n",
    "def turnoverQ(x):\n",
    "    rank =  ((x.rank()).values)[-1]\n",
    "    return rank / x.count() \n",
    "\n",
    "turnoverQDF = dailyTRDF.shift(1).rolling(60).apply(turnoverQ,raw = False)\n",
    "turnoverQDF = turnoverQDF[isValidDF==1]"
   ]
  },
  {
   "cell_type": "code",
   "execution_count": 30,
   "id": "5b33df50",
   "metadata": {},
   "outputs": [],
   "source": [
    "def turnoverBand(theDate):\n",
    "    return (turnoverQDF.loc[theDate].rank()/turnoverQDF.loc[theDate].count()*6).apply(lambda x: math.ceil(x) if x>0 else np.nan)\n",
    "\n",
    "turnoverBandDF = turnoverQDF.apply(lambda x : turnoverBand(x.name), axis = 1)\n",
    "\n",
    "turnoverQDF.to_csv(os.path.join(fileDrive,'turnoverQDF.csv'), header=True, index=True)\n",
    "turnoverBandDF.to_csv(os.path.join(fileDrive,'turnoverBandDF.csv'), header=True, index=True)"
   ]
  },
  {
   "cell_type": "code",
   "execution_count": 31,
   "id": "0bebdcbf",
   "metadata": {},
   "outputs": [],
   "source": [
    "turnoverQDF = pd.read_csv(os.path.join(fileDrive,'turnoverQDF.csv'), header=0, index_col=0)\n",
    "turnoverBandDF = pd.read_csv(os.path.join(fileDrive,'turnoverBandDF.csv'), header=0, index_col=0)"
   ]
  },
  {
   "cell_type": "code",
   "execution_count": 34,
   "id": "a2b68cd4",
   "metadata": {},
   "outputs": [],
   "source": [
    "turnoverBandReturn = np.zeros(6)\n",
    "turnoverBandCount = np.zeros(6)\n",
    "for i in range(6):\n",
    "    turnoverBandReturn[i] = dailyReturnDF[turnoverBandDF==i+1].mean(axis=1).mean()\n",
    "    turnoverBandCount[i] = (turnoverBandDF == i + 1).sum().sum()"
   ]
  },
  {
   "cell_type": "code",
   "execution_count": 35,
   "id": "f3554c5e",
   "metadata": {},
   "outputs": [
    {
     "data": {
      "image/png": "[encoded data removed]",
      "text/plain": [
       "<Figure size 720x288 with 2 Axes>"
      ]
     },
     "metadata": {
      "needs_background": "light"
     },
     "output_type": "display_data"
    }
   ],
   "source": [
    "fig = plt.figure(figsize = [10,4])\n",
    "ax1 = fig.add_subplot(111)\n",
    "ax1.set_title('Yesterday Turnover')\n",
    "ax1.bar(range(1,len(turnoverBandReturn)+1), turnoverBandReturn)\n",
    "ax2 = ax1.twinx()\n",
    "ax2.plot(range(1,len(turnoverBandCount)+1), turnoverBandCount)\n",
    "ax2.set_yticks([i*10000 for i in range(7)])\n",
    "plt.show()"
   ]
  },
  {
   "cell_type": "code",
   "execution_count": 19,
   "id": "36fa827c",
   "metadata": {},
   "outputs": [],
   "source": [
    "# 辅助函数，用于计算值X在数组V中的排序位置\n",
    "def percentile_rank(x,v):\n",
    "    return (v <= x).sum() / len(v)"
   ]
  },
  {
   "cell_type": "code",
   "execution_count": 20,
   "id": "e02158ab",
   "metadata": {},
   "outputs": [],
   "source": [
    "openningQuanPercentileDF = pd.DataFrame(None,index=tradingDate,columns=allStockCode)\n",
    "openningQuanBandDF = pd.DataFrame(None,index=tradingDate,columns=allStockCode)"
   ]
  },
  {
   "cell_type": "code",
   "execution_count": 21,
   "id": "4770e3bb",
   "metadata": {},
   "outputs": [],
   "source": [
    "minuteDataF = loadmat(r'C:\\Users\\mikel\\Desktop\\data\\UnAdjstedStockMinute_' + allStockCode[50][0:6] + '.mat')"
   ]
  },
  {
   "cell_type": "code",
   "execution_count": null,
   "id": "97a2b063",
   "metadata": {},
   "outputs": [],
   "source": [
    "%%time\n",
    "#taking 13 minutes\n",
    "#minutesDataColumns = ['交易日','分开盘','分高价','分低价','分收盘','成交量','成交额']\n",
    "missingFileCodes = []\n",
    "for stockCode in allStockCode:\n",
    "    try: \n",
    "        minuteDataF = loadmat(r'C:\\Users\\mikel\\Desktop\\data\\UnAdjstedStockMinute_' + stockCode[0:6] + '.mat')\n",
    "    except Exception as e:\n",
    "        missingFileCodes.append(stockCode)\n",
    "        continue\n",
    "    minuteData = minuteDataF['UnAdjstedStockMinute_'+stockCode[0:6]]\n",
    "    for i in range(offsetWindow, min(int(minuteData.size/7/242),tradingDate.size)):     #从 offsetWindow = 60（2013.7.1)开始统计，前60天从2013.3.27开始. 分钟数据从2013.3.26开始\n",
    "        if isValidDF[stockCode].iloc[i] == 1:\n",
    "            openningQuanList = []\n",
    "            for k in range(offsetWindow):\n",
    "                #这里应该是4不是5\n",
    "                openningQuanList.append(minuteData[(i-offsetWindow+k)*242][4])    # 数据第一天是2013.3.26，每天242行数据\n",
    "            openningQuanArray = np.array(openningQuanList)\n",
    "            #这里也是4不是5\n",
    "            openningQuanPercentileDF.loc[tradingDate[i],stockCode] = percentile_rank(minuteData[i*242][4],openningQuanArray)\n",
    "#openningQuanPercentileDF = openningQuanPercentileDF[isValidDF==1]\n",
    "openningQuanPercentileDF.to_csv(os.path.join(fileDrive,'openningQuanPercentileDF.csv'), header=True, index=True)"
   ]
  },
  {
   "cell_type": "code",
   "execution_count": 22,
   "id": "8fcc7952",
   "metadata": {},
   "outputs": [],
   "source": [
    "openningQuanPercentileDF = pd.read_csv(os.path.join(fileDrive,'openningQuanPercentileDF.csv'),header=0,index_col=0)"
   ]
  },
  {
   "cell_type": "markdown",
   "id": "542735f2",
   "metadata": {},
   "source": [
    "def openningQuanBand(theDate):\n",
    "    return (openningQuanPercentileDF.loc[theDate].rank()/openningQuanPercentileDF.loc[theDate].count()*10).apply(lambda x: math.ceil(x) if x>0 else np.nan)\n",
    "openningQuanBandDF = openningQuanPercentileDF.apply(lambda x : openningQuanBand(x.name), axis = 1)\n",
    "\n",
    "openningQuanBandDF.to_csv(os.path.join(fileDrive,'openningQuanBandDF.csv'), header=True, index=True)"
   ]
  },
  {
   "cell_type": "code",
   "execution_count": 24,
   "id": "2a1a8ced",
   "metadata": {},
   "outputs": [],
   "source": [
    "openningQuanBandDF = pd.read_csv(os.path.join(fileDrive,'openningQuanBandDF.csv'),header=0,index_col=0)"
   ]
  },
  {
   "cell_type": "code",
   "execution_count": 25,
   "id": "dc5c7898",
   "metadata": {},
   "outputs": [],
   "source": [
    "openningQuanBandReturn = np.zeros(10)\n",
    "openningQuanBandCount = np.zeros(10)\n",
    "for i in range(10):\n",
    "    openningQuanBandReturn[i] = dailyReturnDF[openningQuanBandDF==i+1].mean(axis=1).mean()\n",
    "    # diKaiBandCount[i] = dailyReturnDF[diKaiRankDF==i+1].apply(lambda x : 1 if x == i else 0).sum().sum()\n",
    "    openningQuanBandCount[i] = (openningQuanBandDF == i + 1).sum().sum()\n",
    "size = (openningQuanBandDF > 0).sum().sum()"
   ]
  },
  {
   "cell_type": "code",
   "execution_count": 26,
   "id": "121cafb3",
   "metadata": {},
   "outputs": [
    {
     "data": {
      "image/png": "[encoded data removed]",
      "text/plain": [
       "<Figure size 720x288 with 2 Axes>"
      ]
     },
     "metadata": {
      "needs_background": "light"
     },
     "output_type": "display_data"
    }
   ],
   "source": [
    "fig = plt.figure(figsize = [10,4])\n",
    "ax1 = fig.add_subplot(111)\n",
    "ax1.set_title('Openning Trading Quantity')\n",
    "ax1.bar(range(1,len(openningQuanBandReturn)+1), openningQuanBandReturn)\n",
    "ax2 = ax1.twinx()\n",
    "ax2.plot(range(1,len(openningQuanBandCount)+1), openningQuanBandCount)\n",
    "ax2.set_yticks([i*5000 for i in range(7)])\n",
    "plt.show()"
   ]
  },
  {
   "cell_type": "code",
   "execution_count": 69,
   "id": "49d926fc",
   "metadata": {},
   "outputs": [
    {
     "data": {
      "text/plain": [
       "4258"
      ]
     },
     "execution_count": 69,
     "metadata": {},
     "output_type": "execute_result"
    }
   ],
   "source": [
    "isSelected = pd.DataFrame(data = None,index = tradingDate,columns = allStockCode, dtype = np.int8)\n",
    "isSelected[(diKaiBandDF == 10) & (turnoverBandDF > 3.0) & (openningQuanBandDF == 10.0)] = 1\n",
    "#isSelected = diKaiBandDF[(diKaiBandDF == 10)]\n",
    "(isSelected == 1).sum().sum()"
   ]
  },
  {
   "cell_type": "code",
   "execution_count": 71,
   "id": "0db9b3e5",
   "metadata": {},
   "outputs": [
    {
     "data": {
      "text/plain": [
       "0.0015910225762841492"
      ]
     },
     "execution_count": 71,
     "metadata": {},
     "output_type": "execute_result"
    }
   ],
   "source": [
    "strategyReturn = dailyReturnDF[isSelected == 1].mean(axis=1).mean()\n",
    "averageReturn = dailyReturnDF[isValidDF == 1].mean(axis=1).mean()\n",
    "averageReturn"
   ]
  },
  {
   "cell_type": "code",
   "execution_count": 72,
   "id": "698d4313",
   "metadata": {},
   "outputs": [
    {
     "data": {
      "text/plain": [
       "0.01019163401446477"
      ]
     },
     "execution_count": 72,
     "metadata": {},
     "output_type": "execute_result"
    }
   ],
   "source": [
    "strategyReturn"
   ]
  },
  {
   "cell_type": "code",
   "execution_count": 73,
   "id": "37dce2ff",
   "metadata": {},
   "outputs": [],
   "source": [
    "winCount = (dailyReturnDF[isSelected == 1] > 0).sum().sum()"
   ]
  },
  {
   "cell_type": "code",
   "execution_count": 75,
   "id": "92a97736",
   "metadata": {},
   "outputs": [
    {
     "data": {
      "text/plain": [
       "0.5904180366369187"
      ]
     },
     "execution_count": 75,
     "metadata": {},
     "output_type": "execute_result"
    }
   ],
   "source": [
    "winCount/(isSelected == 1).sum().sum()"
   ]
  },
  {
   "cell_type": "code",
   "execution_count": null,
   "id": "b7e4a48e",
   "metadata": {},
   "outputs": [],
   "source": []
  }
 ],
 "metadata": {
  "kernelspec": {
   "display_name": "Python 3 (ipykernel)",
   "language": "python",
   "name": "python3"
  },
  "language_info": {
   "codemirror_mode": {
    "name": "ipython",
    "version": 3
   },
   "file_extension": ".py",
   "mimetype": "text/x-python",
   "name": "python",
   "nbconvert_exporter": "python",
   "pygments_lexer": "ipython3",
   "version": "3.9.12"
  }
 },
 "nbformat": 4,
 "nbformat_minor": 5
}
