{
 "cells": [
  {
   "cell_type": "code",
   "execution_count": 1,
   "id": "11398667",
   "metadata": {},
   "outputs": [],
   "source": [
    "import scipy.io as sci\n",
    "import numpy as np\n",
    "import matplotlib.pyplot as plt\n",
    "import pandas as pd\n",
    "from pandas import DataFrame\n",
    "from datetime import datetime"
   ]
  },
  {
   "cell_type": "code",
   "execution_count": 2,
   "id": "aece6863",
   "metadata": {},
   "outputs": [],
   "source": [
    "# 文件载入\n",
    "openPriceF = sci.loadmat(r'C:\\Users\\mikel\\Desktop\\Guosheng\\Daily\\AllStock_DailyOpen_dividend.mat')\n",
    "closePriceF = sci.loadmat(r'C:\\Users\\mikel\\Desktop\\Guosheng\\Daily\\AllStock_DailyClose_dividend.mat')\n",
    "listedDaysF = sci.loadmat(r'C:\\Users\\mikel\\Desktop\\Guosheng\\Daily\\AllStock_DailyListedDate.mat')\n",
    "stF = sci.loadmat(r'C:\\Users\\mikel\\Desktop\\Guosheng\\Daily\\AllStock_DailyST.mat')\n",
    "dailyStatusF = sci.loadmat(r'C:\\Users\\mikel\\Desktop\\Guosheng\\Daily\\AllStock_DailyStatus.mat')\n",
    "tradingDateF = sci.loadmat(r'C:\\Users\\mikel\\Desktop\\Guosheng\\Daily\\TradingDate_Daily.mat')\n",
    "stockCodeF = sci.loadmat(r'C:\\Users\\mikel\\Desktop\\Guosheng\\Daily\\AllStockCode.mat')\n",
    "zz500 = pd.read_excel(r'C:\\Users\\mikel\\Desktop\\Guosheng\\指数成分股 300&500.xlsx',sheet_name='中证500',header = 0)"
   ]
  },
  {
   "cell_type": "code",
   "execution_count": 3,
   "id": "5873c469",
   "metadata": {},
   "outputs": [],
   "source": [
    "# 导入文件中的数据到np array\n",
    "openPrice = openPriceF['AllStock_DailyOpen_dividend']\n",
    "closePrice = closePriceF['AllStock_DailyClose_dividend']\n",
    "listedDays = listedDaysF['AllStock_DailyListedDate']\n",
    "stStatus = stF['AllStock_DailyST']\n",
    "dailyStatus = dailyStatusF['AllStock_DailyStatus_use']\n",
    "tradingDate = tradingDateF['TradingDate_Daily']\n",
    "stockCode =  stockCodeF['AllStockCode']"
   ]
  },
  {
   "cell_type": "code",
   "execution_count": 4,
   "id": "a32a5b49",
   "metadata": {},
   "outputs": [],
   "source": [
    "# 样本大小\n",
    "stocks = openPrice.shape[1]   # 4952 stocks\n",
    "days = openPrice.shape[0]\n",
    "startDay = 2240\n",
    "endDay = 3407\n",
    "validDays = endDay - startDay"
   ]
  },
  {
   "cell_type": "code",
   "execution_count": 7,
   "id": "d1228d45",
   "metadata": {},
   "outputs": [],
   "source": [
    "#尋找列數\n",
    "def find_col(x):\n",
    "    yearDigit = tradingDate[x]//10000\n",
    "    monthDigit = tradingDate[x]//100%100\n",
    "    col_index = (yearDigit - 2007)*12 + monthDigit - 1\n",
    "    return col_index"
   ]
  },
  {
   "cell_type": "code",
   "execution_count": 8,
   "id": "493980f4",
   "metadata": {},
   "outputs": [],
   "source": [
    "#是否为中证500成分股\n",
    "isZz500 = np.zeros((validDays,stocks))\n",
    "for j in range(validDays):\n",
    "    for k in range(stocks):\n",
    "        i = find_col(validDays + startDay)\n",
    "        if stockCode[0][k][0] in zz500.iloc[:,i].values:\n",
    "                isZz500[j][k] = 1"
   ]
  },
  {
   "cell_type": "code",
   "execution_count": 29,
   "id": "262e7846",
   "metadata": {},
   "outputs": [],
   "source": [
    "# 挑出要选的样本,用表isValid作标记\n",
    "isValid = np.zeros((validDays,stocks))\n",
    "for i in range(startDay,endDay):\n",
    "    for j in range(stocks):\n",
    "        if listedDays[i][j] > 60 and stStatus[i][j] == 0 and dailyStatus[i-1][j] == 1 and dailyStatus[i][j] == 1 and openPrice[i][j] < closePrice[i-1][j]:\n",
    "            isValid[i-startDay][j] = 1\n",
    "        else: \n",
    "            isValid[i - startDay][j] = 0"
   ]
  },
  {
   "cell_type": "code",
   "execution_count": 35,
   "id": "d537f568",
   "metadata": {},
   "outputs": [
    {
     "name": "stdout",
     "output_type": "stream",
     "text": [
      "506843\n",
      "0.5596824000534246\n",
      "0.5287023855566436\n",
      "0.5032346465423014\n"
     ]
    }
   ],
   "source": [
    "# 统计低开、高开、低开高走、高开高走比例\n",
    "diKai = 0\n",
    "gaoKai = 0\n",
    "diKaiGaoZou = 0\n",
    "gaoKaiGaoZou = 0\n",
    "countx = 0\n",
    "for i in range(startDay,endDay):\n",
    "    for j in range(stocks):\n",
    "        if isZz500[i - startDay][j] == 1 and listedDays[i][j] > 60 and stStatus[i][j] == 0 and dailyStatus[i-1][j] == 1 and dailyStatus[i][j] == 1:\n",
    "            countx = countx + 1\n",
    "            if openPrice[i][j] < closePrice[i-1][j]:\n",
    "                diKai = diKai + 1\n",
    "                if openPrice[i][j] < closePrice[i][j]:\n",
    "                    diKaiGaoZou = diKaiGaoZou + 1\n",
    "            if openPrice[i][j] > closePrice[i-1][j]:\n",
    "                gaoKai = gaoKai + 1\n",
    "                if openPrice[i][j] < closePrice[i][j]:\n",
    "                    gaoKaiGaoZou = gaoKaiGaoZou + 1\n",
    "                    \n",
    "print(countx)\n",
    "print(diKai/(diKai + gaoKai))\n",
    "print(diKaiGaoZou/diKai)\n",
    "print(gaoKaiGaoZou/gaoKai)"
   ]
  },
  {
   "cell_type": "code",
   "execution_count": 31,
   "id": "aef231b8",
   "metadata": {},
   "outputs": [],
   "source": [
    "# 辅助函数，用于计算值X在数组V中的排序位置\n",
    "def percentile_rank(x,v):\n",
    "    return (v <= x).sum() / len(v)"
   ]
  },
  {
   "cell_type": "code",
   "execution_count": 32,
   "id": "22e1b67a",
   "metadata": {},
   "outputs": [
    {
     "name": "stdout",
     "output_type": "stream",
     "text": [
      "(1167, 4952)\n"
     ]
    }
   ],
   "source": [
    "#将样本根据低开幅度分为10组,存于表diKaiFuDu中\n",
    "diKaiFuDu = np.zeros((validDays,stocks))\n",
    "print(diKaiFuDu.shape)\n",
    "for i in range(startDay,endDay):\n",
    "    sampleList = []\n",
    "    for j in range(stocks):\n",
    "        if isValid[i-startDay][j] == 1 and isZz500[i - startDay][j] == 1:\n",
    "            sampleList.append(1 - openPrice[i][j]/closePrice[i-1][j])\n",
    "    sampleArray = np.array(sampleList)\n",
    "    for j in range(stocks):\n",
    "        if isValid[i-startDay][j] == 1 and isZz500[i - startDay][j] == 1:\n",
    "            fuDu = 1 - openPrice[i][j]/closePrice[i-1][j]\n",
    "            percentile = percentile_rank(fuDu,sampleArray)\n",
    "            if percentile != 1:\n",
    "                diKaiFuDu[i - startDay][j] = percentile * 100 // 10 + 1\n",
    "            else:\n",
    "                diKaiFuDu[i - startDay][j] = 10"
   ]
  },
  {
   "cell_type": "code",
   "execution_count": 33,
   "id": "8e1bb3cf",
   "metadata": {},
   "outputs": [],
   "source": [
    "# 计算所选样本当日回报率\n",
    "dailyReturnArray = np.zeros(10)\n",
    "returnArray = np.zeros((10,validDays))\n",
    "counter = np.zeros((10,validDays))\n",
    "lowPriceF = sci.loadmat(r'C:\\Users\\mikel\\Desktop\\Guosheng\\Daily\\AllStock_DailyLow_dividend.mat')\n",
    "lowPrice = lowPriceF['AllStock_DailyLow_dividend']\n",
    "for i in range(startDay,endDay): \n",
    "    for j in range(stocks):\n",
    "        if isValid[i - startDay][j] == 1 and isZz500[i - startDay][j] == 1:\n",
    "            if lowPrice[i][j]/closePrice[i-1][j] - 1 < -0.098:\n",
    "                returnRate = lowPrice[i][j]/openPrice[i][j] - 1\n",
    "            else:\n",
    "                returnRate = closePrice[i][j]/openPrice[i][j] - 1\n",
    "            returnArray[int(diKaiFuDu[i - startDay][j]) - 1][i - startDay] = returnArray[int(diKaiFuDu[i - startDay][j]) - 1][i- startDay] + returnRate\n",
    "            counter[int(diKaiFuDu[i - startDay][j]) - 1][i - startDay] = counter[int(diKaiFuDu[i - startDay][j]) - 1][i - startDay] + 1"
   ]
  },
  {
   "cell_type": "code",
   "execution_count": 34,
   "id": "2b96b815",
   "metadata": {},
   "outputs": [
    {
     "data": {
      "image/png": "[encoded data removed]",
      "text/plain": [
       "<Figure size 432x288 with 1 Axes>"
      ]
     },
     "metadata": {
      "needs_background": "light"
     },
     "output_type": "display_data"
    }
   ],
   "source": [
    "#画图\n",
    "dailyAverageReturn = np.zeros([10,validDays])\n",
    "for i in range(10):\n",
    "    for j in range (validDays):\n",
    "        if counter[i][j] != 0:\n",
    "            dailyAverageReturn[i][j] = returnArray[i][j] / counter[i][j]\n",
    "averageReturn = np.average(dailyAverageReturn, axis=1) \n",
    "plt.bar(range(1,len(averageReturn)+1), averageReturn)\n",
    "plt.show()"
   ]
  },
  {
   "cell_type": "code",
   "execution_count": null,
   "id": "1749da1f",
   "metadata": {},
   "outputs": [],
   "source": []
  }
 ],
 "metadata": {
  "kernelspec": {
   "display_name": "Python 3 (ipykernel)",
   "language": "python",
   "name": "python3"
  },
  "language_info": {
   "codemirror_mode": {
    "name": "ipython",
    "version": 3
   },
   "file_extension": ".py",
   "mimetype": "text/x-python",
   "name": "python",
   "nbconvert_exporter": "python",
   "pygments_lexer": "ipython3",
   "version": "3.9.12"
  }
 },
 "nbformat": 4,
 "nbformat_minor": 5
}
