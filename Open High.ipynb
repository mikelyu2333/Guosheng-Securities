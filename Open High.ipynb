{
 "cells": [
  {
   "cell_type": "code",
   "execution_count": 1,
   "id": "0cf2cd3e",
   "metadata": {},
   "outputs": [],
   "source": [
    "from scipy.io import loadmat\n",
    "import numpy as np\n",
    "import pandas as pd\n",
    "import matplotlib.pyplot as plt\n",
    "import datetime\n",
    "import calendar\n",
    "import os\n",
    "import psutil\n",
    "import math"
   ]
  },
  {
   "cell_type": "code",
   "execution_count": 2,
   "id": "57766a2b",
   "metadata": {},
   "outputs": [],
   "source": [
    "fileDrive = r'C:\\Users\\mikel\\Desktop\\Guosheng\\Daily'\n",
    "#fileDrive = 'D:\\\\HKUST\\\\GuoshenIntern\\\\Redo\\\\RawData\\\\'\n",
    "startDay = 20130327\n",
    "endDay = 20180105 + 1\n",
    "offsetWindow = 60\n",
    "tradingDateAll = loadmat(os.path.join(fileDrive,'TradingDate_Daily.mat'))['TradingDate_Daily'][:,0]    # one column, a row per day\n",
    "startDayIndex = np.array(np.where(tradingDateAll>=startDay))[0][0]\n",
    "endDayIndex = np.array(np.where(tradingDateAll>=endDay))[0][0]\n",
    "tradingDate = tradingDateAll[startDayIndex : endDayIndex]"
   ]
  },
  {
   "cell_type": "code",
   "execution_count": 3,
   "id": "d6147457",
   "metadata": {},
   "outputs": [],
   "source": [
    "allStockCode = pd.Series(loadmat(os.path.join(fileDrive,'AllStockCode.mat'))['AllStockCode'][0])\n",
    "allStockCode = allStockCode.apply(lambda x : x[0]).values"
   ]
  },
  {
   "cell_type": "code",
   "execution_count": 4,
   "id": "99c19bc2",
   "metadata": {},
   "outputs": [],
   "source": [
    "isIndexDF = pd.read_csv(os.path.join(fileDrive,'isIndexDF.csv'),header=0,index_col=0)\n",
    "openPrice = loadmat(os.path.join(fileDrive,'AllStock_DailyOpen_dividend.mat'))['AllStock_DailyOpen_dividend'][startDayIndex:endDayIndex]\n",
    "openPriceDF = pd.DataFrame(openPrice,index=tradingDate,columns=allStockCode)\n",
    "closePrice = loadmat(os.path.join(fileDrive,'AllStock_DailyClose_dividend.mat'))['AllStock_DailyClose_dividend'][startDayIndex:endDayIndex]\n",
    "closePriceDF = pd.DataFrame(closePrice,index=tradingDate,columns=allStockCode)\n",
    "lowPrice = loadmat(os.path.join(fileDrive,'AllStock_DailyLow_dividend.mat'))['AllStock_DailyLow_dividend'][startDayIndex:endDayIndex]\n",
    "lowPriceDF = pd.DataFrame(lowPrice,index=tradingDate,columns=allStockCode)\n",
    "highPrice = loadmat(os.path.join(fileDrive,'AllStock_DailyHigh_dividend.mat'))['AllStock_DailyHigh_dividend'][startDayIndex:endDayIndex]\n",
    "highPriceDF = pd.DataFrame(lowPrice,index=tradingDate,columns=allStockCode)\n",
    "dailyListedDate = loadmat(os.path.join(fileDrive,'AllStock_DailyListedDate.mat'))['AllStock_DailyListedDate'][startDayIndex:endDayIndex]\n",
    "dailyListedDateDF = pd.DataFrame(dailyListedDate,index=tradingDate,columns=allStockCode)\n",
    "dailyST = loadmat(os.path.join(fileDrive,'AllStock_DailyST.mat'))['AllStock_DailyST'][startDayIndex:endDayIndex]\n",
    "dailySTDF = pd.DataFrame(dailyST,index=tradingDate,columns=allStockCode)\n",
    "dailyStatus = loadmat(os.path.join(fileDrive,'AllStock_DailyStatus.mat'))['AllStock_DailyStatus_use'][startDayIndex:endDayIndex]\n",
    "dailyStatusDF = pd.DataFrame(dailyStatus,index=tradingDate,columns=allStockCode)\n",
    "dailyTR = loadmat(os.path.join(fileDrive,'AllStock_DailyTR.mat'))['AllStock_DailyTR'][startDayIndex:endDayIndex]\n",
    "dailyTRDF = pd.DataFrame(dailyTR,index=tradingDate,columns=allStockCode)"
   ]
  },
  {
   "cell_type": "code",
   "execution_count": 5,
   "id": "e1ee1e0c",
   "metadata": {},
   "outputs": [],
   "source": [
    "isValidDF = isIndexDF[(dailyListedDateDF > 60) & (openPriceDF != closePriceDF.shift(1)) & (dailySTDF == 0) & (dailyStatusDF == 1) & (dailyStatusDF.shift(1) == 1)]"
   ]
  },
  {
   "cell_type": "code",
   "execution_count": 6,
   "id": "ef49df12",
   "metadata": {},
   "outputs": [],
   "source": [
    "# 重新定义isValid, 只选高开样本\n",
    "isValidDF = isIndexDF[(dailyListedDateDF > 60) & (openPriceDF > closePriceDF.shift(1)) & (dailySTDF == 0) & (dailyStatusDF == 1) & (dailyStatusDF.shift(1) == 1) ]"
   ]
  },
  {
   "cell_type": "code",
   "execution_count": 7,
   "id": "b2afa3dd",
   "metadata": {},
   "outputs": [],
   "source": [
    "dailyReturnDF = pd.DataFrame(None, index=tradingDate,columns=allStockCode)\n",
    "dailyReturnDF[isValidDF == 1] =  closePriceDF / openPriceDF - 1\n",
    "dailyReturnDF[(isValidDF == 1) & (lowPriceDF/closePriceDF.shift(1) - 1 < -0.098)] = lowPriceDF / openPrice - 1"
   ]
  },
  {
   "cell_type": "code",
   "execution_count": 8,
   "id": "9b1f30c8",
   "metadata": {},
   "outputs": [],
   "source": [
    "gaoKaiFuDuDF = pd.DataFrame(data = None,index=tradingDate,columns=allStockCode)\n",
    "gaoKaiFuDuDF[isValidDF == 1] = openPriceDF / closePriceDF.shift(periods=1, axis=0) - 1"
   ]
  },
  {
   "cell_type": "markdown",
   "id": "e68c17e8",
   "metadata": {},
   "source": [
    "def gaoKaiBand(theDate):\n",
    "    return (gaoKaiFuDuDF.loc[theDate].rank()/gaoKaiFuDuDF.loc[theDate].count()*10).apply(lambda x: math.ceil(x) if x>0 else np.nan)\n",
    "gaoKaiBandDF = gaoKaiFuDuDF.apply(lambda x : gaoKaiBand(x.name), axis = 1)\n",
    "gaoKaiBandDF.to_csv(os.path.join(fileDrive,'New\\gaoKaiBandDF.csv'), header=True, index=True)"
   ]
  },
  {
   "cell_type": "code",
   "execution_count": 9,
   "id": "ad536856",
   "metadata": {},
   "outputs": [],
   "source": [
    "gaoKaiBandDF = pd.read_csv(os.path.join(fileDrive,'New\\gaoKaiBandDF.csv'), header=0, index_col=0)"
   ]
  },
  {
   "cell_type": "code",
   "execution_count": 10,
   "id": "bfe365b3",
   "metadata": {},
   "outputs": [],
   "source": [
    "gaoKaiBandReturn = np.zeros(10)\n",
    "gaoKaiBandCount = np.zeros(10)\n",
    "for i in range(10):\n",
    "    gaoKaiBandReturn[i] = dailyReturnDF[gaoKaiBandDF==i+1].mean(axis=1).mean()\n",
    "    # diKaiBandCount[i] = dailyReturnDF[diKaiRankDF==i+1].apply(lambda x : 1 if x == i else 0).sum().sum()\n",
    "    gaoKaiBandCount[i] = (gaoKaiBandDF == i + 1).sum().sum()"
   ]
  },
  {
   "cell_type": "code",
   "execution_count": 11,
   "id": "8d4b7dc9",
   "metadata": {},
   "outputs": [],
   "source": [
    "gaoKaiBandReturn = np.zeros(10)\n",
    "gaoKaiBandCount = np.zeros(10)\n",
    "for i in range(10):\n",
    "    gaoKaiBandReturn[i] = dailyReturnDF[gaoKaiBandDF==i+1].mean(axis=1).mean()\n",
    "    # diKaiBandCount[i] = dailyReturnDF[diKaiRankDF==i+1].apply(lambda x : 1 if x == i else 0).sum().sum()\n",
    "    gaoKaiBandCount[i] = (gaoKaiBandDF == i + 1).sum().sum()"
   ]
  },
  {
   "cell_type": "code",
   "execution_count": 12,
   "id": "cca98f57",
   "metadata": {},
   "outputs": [
    {
     "data": {
      "image/png": "[encoded data removed]",
      "text/plain": [
       "<Figure size 720x288 with 2 Axes>"
      ]
     },
     "metadata": {
      "needs_background": "light"
     },
     "output_type": "display_data"
    }
   ],
   "source": [
    "fig = plt.figure(figsize = [10,4])\n",
    "ax1 = fig.add_subplot(111)\n",
    "ax1.set_title('Gaokai Fudu')\n",
    "ax1.bar(range(1,len(gaoKaiBandReturn)+1), gaoKaiBandReturn)\n",
    "ax2 = ax1.twinx()\n",
    "ax2.plot(range(1,len(gaoKaiBandReturn)+1), gaoKaiBandCount)\n",
    "ax2.set_yticks([i*5000 for i in range(7)])\n",
    "plt.show()"
   ]
  },
  {
   "cell_type": "markdown",
   "id": "2ed15626",
   "metadata": {},
   "source": [
    "%%time\n",
    "# a time-consuming task, taking 20 minutes\n",
    "def turnoverQ(x):\n",
    "    rank =  ((x.rank()).values)[-1]\n",
    "    return rank / x.count() \n",
    "turnoverQDF = dailyTRDF.shift(1).rolling(60).apply(turnoverQ,raw = False)\n",
    "turnoverQDF = turnoverQDF[isValidDF==1]\n",
    "def turnoverBand(theDate):\n",
    "    return (turnoverQDF.loc[theDate].rank()/turnoverQDF.loc[theDate].count()*6).apply(lambda x: math.ceil(x) if x>0 else np.nan)\n",
    "\n",
    "turnoverBandDF = turnoverQDF.apply(lambda x : turnoverBand(x.name), axis = 1)"
   ]
  },
  {
   "cell_type": "markdown",
   "id": "2f271e81",
   "metadata": {},
   "source": [
    "turnoverQDF.to_csv(os.path.join(fileDrive,'New\\\\turnoverQDF1.csv'), header=True, index=True)\n",
    "turnoverBandDF.to_csv(os.path.join(fileDrive,'New\\\\turnoverBandDF1.csv'), header=True, index=True)"
   ]
  },
  {
   "cell_type": "code",
   "execution_count": 13,
   "id": "9735172e",
   "metadata": {},
   "outputs": [],
   "source": [
    "turnoverQDF = pd.read_csv(os.path.join(fileDrive,'New\\\\turnoverQDF1.csv'), header=0, index_col=0)\n",
    "turnoverBandDF = pd.read_csv(os.path.join(fileDrive,'New\\\\turnoverBandDF1.csv'), header=0, index_col=0)"
   ]
  },
  {
   "cell_type": "code",
   "execution_count": 14,
   "id": "609a9c06",
   "metadata": {},
   "outputs": [],
   "source": [
    "turnoverBandReturn = np.zeros(6)\n",
    "turnoverBandCount = np.zeros(6)\n",
    "for i in range(6):\n",
    "    turnoverBandReturn[i] = dailyReturnDF[turnoverBandDF==i+1].mean(axis=1).mean()\n",
    "    turnoverBandCount[i] = (turnoverBandDF == i + 1).sum().sum()"
   ]
  },
  {
   "cell_type": "code",
   "execution_count": 15,
   "id": "ae4d1304",
   "metadata": {},
   "outputs": [
    {
     "data": {
      "image/png": "[encoded data removed]",
      "text/plain": [
       "<Figure size 720x288 with 2 Axes>"
      ]
     },
     "metadata": {
      "needs_background": "light"
     },
     "output_type": "display_data"
    }
   ],
   "source": [
    "fig = plt.figure(figsize = [10,4])\n",
    "ax1 = fig.add_subplot(111)\n",
    "ax1.set_title('Yesterday Turnover')\n",
    "ax1.bar(range(1,len(turnoverBandReturn)+1), turnoverBandReturn)\n",
    "ax2 = ax1.twinx()\n",
    "ax2.plot(range(1,len(turnoverBandCount)+1), turnoverBandCount)\n",
    "ax2.set_yticks([i*10000 for i in range(7)])\n",
    "plt.show()"
   ]
  },
  {
   "cell_type": "code",
   "execution_count": 16,
   "id": "90a08b91",
   "metadata": {},
   "outputs": [],
   "source": [
    "# 辅助函数，用于计算值X在数组V中的排序位置\n",
    "def percentile_rank(x,v):\n",
    "    return (v <= x).sum() / len(v)"
   ]
  },
  {
   "cell_type": "code",
   "execution_count": 17,
   "id": "89e62a41",
   "metadata": {},
   "outputs": [],
   "source": [
    "openningQuanPercentileDF = pd.DataFrame(None,index=tradingDate,columns=allStockCode)\n",
    "openningQuanBandDF = pd.DataFrame(None,index=tradingDate,columns=allStockCode)"
   ]
  },
  {
   "cell_type": "code",
   "execution_count": 18,
   "id": "38358197",
   "metadata": {},
   "outputs": [],
   "source": [
    "minuteDataF = loadmat(r'C:\\Users\\mikel\\Desktop\\data\\UnAdjstedStockMinute_' + allStockCode[50][0:6] + '.mat')"
   ]
  },
  {
   "cell_type": "code",
   "execution_count": 38,
   "id": "7dedc9dd",
   "metadata": {},
   "outputs": [
    {
     "name": "stdout",
     "output_type": "stream",
     "text": [
      "CPU times: total: 8min 26s\n",
      "Wall time: 9min 33s\n"
     ]
    }
   ],
   "source": [
    "%%time\n",
    "#taking 13 minutes\n",
    "#minutesDataColumns = ['交易日','分开盘','分高价','分低价','分收盘','成交量','成交额']\n",
    "missingFileCodes = []\n",
    "for stockCode in allStockCode:\n",
    "    try: \n",
    "        minuteDataF = loadmat(r'C:\\Users\\mikel\\Desktop\\data\\UnAdjstedStockMinute_' + stockCode[0:6] + '.mat')\n",
    "    except Exception as e:\n",
    "        missingFileCodes.append(stockCode)\n",
    "        continue\n",
    "    minuteData = minuteDataF['UnAdjstedStockMinute_'+stockCode[0:6]]\n",
    "    for i in range(offsetWindow, min(int(minuteData.size/7/242),tradingDate.size)):     #从 offsetWindow = 60（2013.7.1)开始统计，前60天从2013.3.27开始. 分钟数据从2013.3.26开始\n",
    "        if isValidDF[stockCode].iloc[i] == 1:\n",
    "            openningQuanList = []\n",
    "            for k in range(offsetWindow):\n",
    "                #下面这行代码应该是4，不是5\n",
    "                openningQuanList.append(minuteData[(i-offsetWindow+k)*242][4])    # 数据第一天是2013.3.26，每天242行数据\n",
    "            openningQuanArray = np.array(openningQuanList)\n",
    "            #这里也是4不是5\n",
    "            openningQuanPercentileDF.loc[tradingDate[i],stockCode] = percentile_rank(minuteData[i*242][4],openningQuanArray)\n",
    "#openningQuanPercentileDF = openningQuanPercentileDF[isValidDF==1]"
   ]
  },
  {
   "cell_type": "code",
   "execution_count": 39,
   "id": "68c12498",
   "metadata": {},
   "outputs": [],
   "source": [
    "openningQuanPercentileDF.to_csv(os.path.join(fileDrive,'New//openningQuanPercentileDF1.csv'), header=True, index=True)\n",
    "openningQuanPercentileDF = pd.read_csv(os.path.join(fileDrive,'New//openningQuanPercentileDF1.csv'),header=0,index_col=0)"
   ]
  },
  {
   "cell_type": "code",
   "execution_count": 40,
   "id": "1c250895",
   "metadata": {},
   "outputs": [],
   "source": [
    "def openningQuanBand(theDate):\n",
    "    return (openningQuanPercentileDF.loc[theDate].rank()/openningQuanPercentileDF.loc[theDate].count()*10).apply(lambda x: math.ceil(x) if x>0 else np.nan)\n",
    "openningQuanBandDF = openningQuanPercentileDF.apply(lambda x : openningQuanBand(x.name), axis = 1)\n",
    "openningQuanBandDF.to_csv(os.path.join(fileDrive,'New//openningQuanBandDF1.csv'), header=True, index=True)"
   ]
  },
  {
   "cell_type": "code",
   "execution_count": 41,
   "id": "d94639a2",
   "metadata": {},
   "outputs": [],
   "source": [
    "openningQuanBandDF = pd.read_csv(os.path.join(fileDrive,'New//openningQuanBandDF1.csv'),header=0,index_col=0)"
   ]
  },
  {
   "cell_type": "code",
   "execution_count": 42,
   "id": "6d4191ab",
   "metadata": {},
   "outputs": [],
   "source": [
    "openningQuanBandReturn = np.zeros(10)\n",
    "openningQuanBandCount = np.zeros(10)\n",
    "for i in range(10):\n",
    "    openningQuanBandReturn[i] = dailyReturnDF[openningQuanBandDF==i+1].mean(axis=1).mean()\n",
    "    # diKaiBandCount[i] = dailyReturnDF[diKaiRankDF==i+1].apply(lambda x : 1 if x == i else 0).sum().sum()\n",
    "    openningQuanBandCount[i] = (openningQuanBandDF == i + 1).sum().sum()"
   ]
  },
  {
   "cell_type": "code",
   "execution_count": 43,
   "id": "4e8afaf2",
   "metadata": {},
   "outputs": [
    {
     "data": {
      "image/png": "[encoded data removed]",
      "text/plain": [
       "<Figure size 720x288 with 2 Axes>"
      ]
     },
     "metadata": {
      "needs_background": "light"
     },
     "output_type": "display_data"
    }
   ],
   "source": [
    "fig = plt.figure(figsize = [10,4])\n",
    "ax1 = fig.add_subplot(111)\n",
    "ax1.set_title('Openning Trading Quantity')\n",
    "ax1.bar(range(1,len(openningQuanBandReturn)+1), openningQuanBandReturn)\n",
    "ax2 = ax1.twinx()\n",
    "ax2.plot(range(1,len(openningQuanBandCount)+1), openningQuanBandCount)\n",
    "ax2.set_yticks([i*5000 for i in range(7)])\n",
    "plt.show()"
   ]
  },
  {
   "cell_type": "code",
   "execution_count": 44,
   "id": "a82d507f",
   "metadata": {},
   "outputs": [
    {
     "data": {
      "text/plain": [
       "5301"
      ]
     },
     "execution_count": 44,
     "metadata": {},
     "output_type": "execute_result"
    }
   ],
   "source": [
    "isSelected = pd.DataFrame(data = None,index = tradingDate,columns = allStockCode, dtype = np.int8)\n",
    "isSelected[(gaoKaiBandDF == 10) & (openningQuanBandDF < 7) & (turnoverBandDF < 5)] = 1\n",
    "#isSelected = diKaiBandDF[(diKaiBandDF == 10)]\n",
    "(isSelected == 1).sum().sum()"
   ]
  },
  {
   "cell_type": "code",
   "execution_count": 45,
   "id": "5f9cfa16",
   "metadata": {},
   "outputs": [],
   "source": [
    "strategyReturn = dailyReturnDF[isSelected == 1].mean(axis=1).mean()\n",
    "winCount = (dailyReturnDF[isSelected == 1] > 0).sum().sum()"
   ]
  },
  {
   "cell_type": "code",
   "execution_count": 46,
   "id": "1c741071",
   "metadata": {},
   "outputs": [
    {
     "data": {
      "text/plain": [
       "0.37219392567440107"
      ]
     },
     "execution_count": 46,
     "metadata": {},
     "output_type": "execute_result"
    }
   ],
   "source": [
    "winCount/(isSelected == 1).sum().sum()"
   ]
  },
  {
   "cell_type": "code",
   "execution_count": 47,
   "id": "45ede1a4",
   "metadata": {},
   "outputs": [
    {
     "data": {
      "text/plain": [
       "-0.005777959447243941"
      ]
     },
     "execution_count": 47,
     "metadata": {},
     "output_type": "execute_result"
    }
   ],
   "source": [
    "strategyReturn"
   ]
  },
  {
   "cell_type": "code",
   "execution_count": 48,
   "id": "a40d10f0",
   "metadata": {},
   "outputs": [],
   "source": [
    "averageReturn = dailyReturnDF[isValidDF == 1].mean(axis=1).mean()"
   ]
  },
  {
   "cell_type": "code",
   "execution_count": 49,
   "id": "2a4b2341",
   "metadata": {},
   "outputs": [
    {
     "data": {
      "text/plain": [
       "-0.0012244450009273062"
      ]
     },
     "execution_count": 49,
     "metadata": {},
     "output_type": "execute_result"
    }
   ],
   "source": [
    "averageReturn"
   ]
  },
  {
   "cell_type": "code",
   "execution_count": null,
   "id": "e43ec8a6",
   "metadata": {},
   "outputs": [],
   "source": []
  }
 ],
 "metadata": {
  "kernelspec": {
   "display_name": "Python 3 (ipykernel)",
   "language": "python",
   "name": "python3"
  },
  "language_info": {
   "codemirror_mode": {
    "name": "ipython",
    "version": 3
   },
   "file_extension": ".py",
   "mimetype": "text/x-python",
   "name": "python",
   "nbconvert_exporter": "python",
   "pygments_lexer": "ipython3",
   "version": "3.9.12"
  }
 },
 "nbformat": 4,
 "nbformat_minor": 5
}
