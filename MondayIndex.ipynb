{
 "cells": [
  {
   "cell_type": "code",
   "execution_count": 1,
   "id": "381e39e6",
   "metadata": {},
   "outputs": [],
   "source": [
    "from scipy.io import loadmat\n",
    "import numpy as np\n",
    "import pandas as pd\n",
    "import matplotlib.pyplot as plt\n",
    "import datetime\n",
    "from datetime import datetime\n",
    "import calendar\n",
    "import os\n",
    "import psutil\n",
    "import math"
   ]
  },
  {
   "cell_type": "code",
   "execution_count": 2,
   "id": "466e76d0",
   "metadata": {},
   "outputs": [],
   "source": [
    "# fileDrive = r'C:\\Users\\mikel\\Desktop\\Guosheng\\Monday'\n",
    "fileDrive = r'C:\\Users\\mikel\\Desktop\\Guosheng\\Monday'\n",
    "tradingDate = pd.read_excel(os.path.join(fileDrive,'指数数据.xlsx'),sheet_name='开盘价',header = 1).iloc[:,0]\n",
    "openIndex = pd.read_excel(os.path.join(fileDrive,'指数数据.xlsx'),sheet_name='开盘价',header = 1).iloc[:,1:4]\n",
    "closeIndex = pd.read_excel(os.path.join(fileDrive,'指数数据.xlsx'),sheet_name='收盘价',header = 1).iloc[:,1:4]"
   ]
  },
  {
   "cell_type": "code",
   "execution_count": 3,
   "id": "1cca516b",
   "metadata": {},
   "outputs": [
    {
     "data": {
      "text/plain": [
       "pandas.core.series.Series"
      ]
     },
     "execution_count": 3,
     "metadata": {},
     "output_type": "execute_result"
    }
   ],
   "source": [
    "type(tradingDate)"
   ]
  },
  {
   "cell_type": "code",
   "execution_count": 5,
   "id": "6eff8fec",
   "metadata": {},
   "outputs": [],
   "source": [
    "dailyReturn = closeIndex/closeIndex.shift(1) - 1"
   ]
  },
  {
   "cell_type": "code",
   "execution_count": 6,
   "id": "be549baf",
   "metadata": {},
   "outputs": [],
   "source": [
    "tradingDate = tradingDate.apply(lambda x : datetime.strptime(str(x), '%Y%m%d').isoweekday())\n",
    "dailyReturn.insert(dailyReturn.shape[1],'weekday',tradingDate.values)\n",
    "#.iszweekday()"
   ]
  },
  {
   "cell_type": "code",
   "execution_count": 7,
   "id": "89f9dfd7",
   "metadata": {},
   "outputs": [
    {
     "data": {
      "text/plain": [
       "'for i in range(1,14): \\n    for j in range(1,6):\\n        returnValue = dailyReturn.iloc[250*(i-1) : 250 * i]\\n        sz50Return[j-1] = returnValue[returnValue.iloc[:,3] == j].iloc[:,0].mean()\\n        hs300Return[j-1] = returnValue[returnValue.iloc[:,3] == j].iloc[:,1].mean()\\n        zz500Return[j-1] = returnValue[returnValue.iloc[:,3] == j].iloc[:,2].mean()\\n    plt.bar(range(1,6), sz50Return)\\n    plt.title(\"sz50\" + \" year \" + str(i))\\n    plt.show()\\n    plt.bar(range(1,6), hs300Return)\\n    plt.title(\"hs300\"  + \" year \" + str(i))\\n    plt.show()\\n    plt.bar(range(1,6), zz500Return)\\n    plt.title(\"zz500\"  + \" year \" + str(i))\\n    plt.show()'"
      ]
     },
     "execution_count": 7,
     "metadata": {},
     "output_type": "execute_result"
    }
   ],
   "source": [
    "sz50Return = np.zeros(5)\n",
    "hs300Return = np.zeros(5)\n",
    "zz500Return = np.zeros(5)\n",
    "'''for i in range(1,14): \n",
    "    for j in range(1,6):\n",
    "        returnValue = dailyReturn.iloc[250*(i-1) : 250 * i]\n",
    "        sz50Return[j-1] = returnValue[returnValue.iloc[:,3] == j].iloc[:,0].mean()\n",
    "        hs300Return[j-1] = returnValue[returnValue.iloc[:,3] == j].iloc[:,1].mean()\n",
    "        zz500Return[j-1] = returnValue[returnValue.iloc[:,3] == j].iloc[:,2].mean()\n",
    "    plt.bar(range(1,6), sz50Return)\n",
    "    plt.title(\"sz50\" + \" year \" + str(i))\n",
    "    plt.show()\n",
    "    plt.bar(range(1,6), hs300Return)\n",
    "    plt.title(\"hs300\"  + \" year \" + str(i))\n",
    "    plt.show()\n",
    "    plt.bar(range(1,6), zz500Return)\n",
    "    plt.title(\"zz500\"  + \" year \" + str(i))\n",
    "    plt.show()'''"
   ]
  },
  {
   "cell_type": "code",
   "execution_count": 8,
   "id": "ec8412c6",
   "metadata": {},
   "outputs": [
    {
     "data": {
      "image/png": "[encoded data removed]",
      "text/plain": [
       "<Figure size 432x288 with 1 Axes>"
      ]
     },
     "metadata": {
      "needs_background": "light"
     },
     "output_type": "display_data"
    },
    {
     "data": {
      "image/png": "[encoded data removed]",
      "text/plain": [
       "<Figure size 432x288 with 1 Axes>"
      ]
     },
     "metadata": {
      "needs_background": "light"
     },
     "output_type": "display_data"
    },
    {
     "data": {
      "image/png": "[encoded data removed]",
      "text/plain": [
       "<Figure size 432x288 with 1 Axes>"
      ]
     },
     "metadata": {
      "needs_background": "light"
     },
     "output_type": "display_data"
    }
   ],
   "source": [
    " for j in range(1,6):\n",
    "    sz50Return[j-1] = dailyReturn[dailyReturn.iloc[:,3] == j].iloc[:,0].median()\n",
    "    hs300Return[j-1] = dailyReturn[dailyReturn.iloc[:,3] == j].iloc[:,1].median()\n",
    "    zz500Return[j-1] = dailyReturn[dailyReturn.iloc[:,3] == j].iloc[:,2].median()\n",
    "plt.bar(range(1,6), sz50Return)\n",
    "plt.show()\n",
    "plt.bar(range(1,6), hs300Return)\n",
    "plt.show()\n",
    "plt.bar(range(1,6), zz500Return)\n",
    "plt.show()"
   ]
  },
  {
   "cell_type": "code",
   "execution_count": null,
   "id": "c6252c3d",
   "metadata": {},
   "outputs": [],
   "source": []
  }
 ],
 "metadata": {
  "kernelspec": {
   "display_name": "Python 3 (ipykernel)",
   "language": "python",
   "name": "python3"
  },
  "language_info": {
   "codemirror_mode": {
    "name": "ipython",
    "version": 3
   },
   "file_extension": ".py",
   "mimetype": "text/x-python",
   "name": "python",
   "nbconvert_exporter": "python",
   "pygments_lexer": "ipython3",
   "version": "3.9.12"
  }
 },
 "nbformat": 4,
 "nbformat_minor": 5
}
