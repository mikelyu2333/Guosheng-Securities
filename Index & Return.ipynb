{
 "cells": [
  {
   "cell_type": "code",
   "execution_count": 1,
   "id": "41214dd5",
   "metadata": {},
   "outputs": [],
   "source": [
    "from scipy.io import loadmat\n",
    "from scipy.stats import pearsonr\n",
    "import numpy as np\n",
    "import pandas as pd\n",
    "import matplotlib.pyplot as plt\n",
    "import datetime\n",
    "import calendar\n",
    "import os\n",
    "import psutil\n",
    "import math"
   ]
  },
  {
   "cell_type": "code",
   "execution_count": 2,
   "id": "b8213878",
   "metadata": {},
   "outputs": [],
   "source": [
    "fileDrive = r'C:\\Users\\mikel\\Desktop\\guosheng\\index&return'\n",
    "indexInfo =  pd.read_excel(os.path.join(fileDrive,'申万一级行业数据.xlsx'),sheet_name= None, header = 0, index_col = 0)\n",
    "#openIndex = pd.read_excel(os.path.join(fileDrive,'指数数据.xlsx'),sheet_name='开盘价',header = 1).iloc[:,1:4]\n",
    "#closeIndex = pd.read_excel(os.path.join(fileDrive,'指数数据.xlsx'),sheet_name='收盘价',header = 1).iloc[:,1:4]"
   ]
  },
  {
   "cell_type": "code",
   "execution_count": 3,
   "id": "f333966e",
   "metadata": {},
   "outputs": [],
   "source": [
    "result = pd.read_excel(os.path.join(fileDrive,'申万一级&二级行业的时序预测.xlsx'),sheet_name= None, header = 0, index_col = 0)"
   ]
  },
  {
   "cell_type": "code",
   "execution_count": 4,
   "id": "47c75159",
   "metadata": {},
   "outputs": [],
   "source": [
    "keys = list(indexInfo.keys())"
   ]
  },
  {
   "cell_type": "code",
   "execution_count": 5,
   "id": "08312409",
   "metadata": {},
   "outputs": [],
   "source": [
    "sheetNum = 0\n",
    "coeffList = np.zeros((len(indexInfo),indexInfo['PE'].shape[0]))\n",
    "priceChange = indexInfo['涨跌幅']"
   ]
  },
  {
   "cell_type": "code",
   "execution_count": 6,
   "id": "9c944132",
   "metadata": {},
   "outputs": [
    {
     "name": "stderr",
     "output_type": "stream",
     "text": [
      "D:\\Anaconda\\lib\\site-packages\\scipy\\stats\\stats.py:4023: PearsonRConstantInputWarning: An input array is constant; the correlation coefficient is not defined.\n",
      "  warnings.warn(PearsonRConstantInputWarning())\n"
     ]
    }
   ],
   "source": [
    "for key in keys:\n",
    "    if key == '收盘价' :\n",
    "            continue \n",
    "    for j in range(indexInfo[key].shape[0]):\n",
    "        ind = indexInfo[key].iloc[j,1:-1]\n",
    "        pChange = priceChange.iloc[j,2:]\n",
    "        if (sheetNum > 4) and (sheetNum < 18):\n",
    "            returnData1 = priceChange.iloc[j, 1::3]\n",
    "            returnData2 = priceChange.iloc[j, 2::3]\n",
    "            returnData2 = pd.Series(data=returnData2.values, index=returnData1.index)\n",
    "            returnData3 = priceChange.iloc[j, 3::3]\n",
    "            returnData3 = pd.Series(data=returnData3.values, index=returnData1.index)\n",
    "            pChange = (1+returnData1) * (1 + returnData2) * (1 + returnData3) - 1\n",
    "        else:\n",
    "            pChange = priceChange.iloc[j,2:]\n",
    "        pChange = pd.Series(data=pChange.values, index=ind.index)\n",
    "    \n",
    "        if np.sum(indexInfo[key].iloc[j,1:-1] > 0) < 10:\n",
    "            coeffList[sheetNum][j] = 0\n",
    "        else:\n",
    "            pChange = pChange.loc[ind != 0]\n",
    "            ind = ind.loc[ind != 0]\n",
    "        result['一级行业相关系数与P值明细'].iloc[j, keys.index(key) + 1] = pearsonr(ind,pChange)[0]\n",
    "        result['一级行业相关系数与P值明细'].iloc[j + 34, keys.index(key) + 1]  = pearsonr(ind,pChange)[1]\n",
    "    sheetNum = sheetNum + 1"
   ]
  },
  {
   "cell_type": "code",
   "execution_count": 7,
   "id": "79375746",
   "metadata": {},
   "outputs": [
    {
     "name": "stderr",
     "output_type": "stream",
     "text": [
      "D:\\Anaconda\\lib\\site-packages\\scipy\\stats\\stats.py:4023: PearsonRConstantInputWarning: An input array is constant; the correlation coefficient is not defined.\n",
      "  warnings.warn(PearsonRConstantInputWarning())\n"
     ]
    }
   ],
   "source": [
    "indexInfo =  pd.read_excel(os.path.join(fileDrive,'申万二级行业数据.xlsx'),sheet_name= None, header = 0, index_col = 0)\n",
    "#openIndex = pd.read_excel(os.path.join(fileDrive,'指数数据.xlsx'),sheet_name='开盘价',header = 1).iloc[:,1:4]\n",
    "#closeIndex = pd.read_excel(os.path.join(fileDrive,'指数数据.xlsx'),sheet_name='收盘价',header = 1).iloc[:,1:4]\n",
    "\n",
    "keys = list(indexInfo.keys())\n",
    "sheetNum = 0\n",
    "coeffList = np.zeros((len(indexInfo),indexInfo['PE'].shape[0]))\n",
    "priceChange = indexInfo['涨跌幅']\n",
    "\n",
    "for key in keys:\n",
    "    if key == '收盘价' :\n",
    "            continue \n",
    "    for j in range(indexInfo[key].shape[0]):\n",
    "        ind = indexInfo[key].iloc[j,1:-1]\n",
    "        pChange = priceChange.iloc[j,2:]\n",
    "        if (sheetNum > 4) and (sheetNum < 18):\n",
    "            returnData1 = priceChange.iloc[j, 1::3]\n",
    "            returnData2 = priceChange.iloc[j, 2::3]\n",
    "            returnData2 = pd.Series(data=returnData2.values, index=returnData1.index)\n",
    "            returnData3 = priceChange.iloc[j, 3::3]\n",
    "            returnData3 = pd.Series(data=returnData3.values, index=returnData1.index)\n",
    "            pChange = (1+returnData1) * (1 + returnData2) * (1 + returnData3) - 1\n",
    "        else:\n",
    "            pChange = priceChange.iloc[j,2:]\n",
    "        pChange = pd.Series(data=pChange.values, index=ind.index)\n",
    "    \n",
    "        if np.sum(indexInfo[key].iloc[j,1:-1] > 0) < 10:\n",
    "            coeffList[sheetNum][j] = 0\n",
    "        else:\n",
    "            pChange = pChange.loc[ind != 0]\n",
    "            ind = ind.loc[ind != 0]\n",
    "        result['二级行业相关系数与P值明细'].iloc[j, keys.index(key) + 1] = pearsonr(ind,pChange)[0]\n",
    "        result['二级行业相关系数与P值明细'].iloc[j + 128, keys.index(key) + 1]  = pearsonr(ind,pChange)[1]\n",
    "    sheetNum = sheetNum + 1"
   ]
  },
  {
   "cell_type": "code",
   "execution_count": 8,
   "id": "418fc6ff",
   "metadata": {},
   "outputs": [],
   "source": [
    "with pd.ExcelWriter(os.path.join(fileDrive,'申万一级&二级行业的时序预测New.xlsx')) as writer: \n",
    "    result['汇总'].to_excel(writer, sheet_name='汇总')\n",
    "    result['一级行业相关系数与P值明细'].to_excel(writer, sheet_name='一级行业相关系数与P值明细')\n",
    "    result['二级行业相关系数与P值明细'].to_excel(writer, sheet_name='二级行业相关系数与P值明细')"
   ]
  },
  {
   "cell_type": "code",
   "execution_count": null,
   "id": "c7c7a433",
   "metadata": {},
   "outputs": [],
   "source": []
  }
 ],
 "metadata": {
  "kernelspec": {
   "display_name": "Python 3 (ipykernel)",
   "language": "python",
   "name": "python3"
  },
  "language_info": {
   "codemirror_mode": {
    "name": "ipython",
    "version": 3
   },
   "file_extension": ".py",
   "mimetype": "text/x-python",
   "name": "python",
   "nbconvert_exporter": "python",
   "pygments_lexer": "ipython3",
   "version": "3.9.12"
  }
 },
 "nbformat": 4,
 "nbformat_minor": 5
}
