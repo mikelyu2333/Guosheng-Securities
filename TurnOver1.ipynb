{
 "cells": [
  {
   "cell_type": "code",
   "execution_count": 1,
   "id": "2f4e6aca",
   "metadata": {},
   "outputs": [],
   "source": [
    "import scipy.io as sci\n",
    "import numpy as np\n",
    "import matplotlib.pyplot as plt\n",
    "import pandas as pd"
   ]
  },
  {
   "cell_type": "code",
   "execution_count": 2,
   "id": "bb97759f",
   "metadata": {},
   "outputs": [],
   "source": [
    "# 文件载入\n",
    "# fileDrive = r'C:\\Users\\mikel\\Desktop\\Guosheng\\Daily'\n",
    "fileDrive = r'C:\\Users\\mikel\\Desktop\\Guosheng\\Daily'\n",
    "openPriceF = sci.loadmat(fileDrive+'\\AllStock_DailyOpen_dividend.mat')\n",
    "closePriceF = sci.loadmat(fileDrive+'\\AllStock_DailyClose_dividend.mat')\n",
    "listedDaysF = sci.loadmat(fileDrive+'\\AllStock_DailyListedDate.mat')\n",
    "stF = sci.loadmat(fileDrive+'\\AllStock_DailyST.mat')\n",
    "dailyStatusF = sci.loadmat(fileDrive+'\\AllStock_DailyStatus.mat')\n",
    "turnOverF = sci.loadmat(fileDrive+'\\AllStock_DailyTR.mat')\n",
    "tradingDateF = sci.loadmat(r'C:\\Users\\mikel\\Desktop\\Guosheng\\Daily\\TradingDate_Daily.mat')\n",
    "stockCodeF = sci.loadmat(r'C:\\Users\\mikel\\Desktop\\Guosheng\\Daily\\AllStockCode.mat')\n",
    "zz500 = pd.read_excel(fileDrive + '\\指数成分股 300&500.xlsx',sheet_name='中证500',header = 0)\n",
    "# 导入文件中的数据到np array\n",
    "openPrice = openPriceF['AllStock_DailyOpen_dividend']\n",
    "closePrice = closePriceF['AllStock_DailyClose_dividend']\n",
    "listedDays = listedDaysF['AllStock_DailyListedDate']\n",
    "stStatus = stF['AllStock_DailyST']\n",
    "dailyStatus = dailyStatusF['AllStock_DailyStatus_use']\n",
    "turnOver = turnOverF['AllStock_DailyTR']\n",
    "tradingDate = tradingDateF['TradingDate_Daily']\n",
    "stockCode =  stockCodeF['AllStockCode']"
   ]
  },
  {
   "cell_type": "code",
   "execution_count": 3,
   "id": "14afbaae",
   "metadata": {},
   "outputs": [],
   "source": [
    "# 样本大小\n",
    "stocks = openPrice.shape[1]   # 4952 stocks\n",
    "days = openPrice.shape[0]   #4452 days\n",
    "startDay = 2240   # 2013/3/27\n",
    "endDay = 3407    # 3406 is 2018/1/5\n",
    "validDays = endDay - startDay  #1167 days"
   ]
  },
  {
   "cell_type": "code",
   "execution_count": 4,
   "id": "3d18507b",
   "metadata": {},
   "outputs": [],
   "source": [
    "#储存数据年月信息\n",
    "yearDigit = np.zeros(validDays)\n",
    "monthDigit = np.zeros(validDays)\n",
    "for i in range(startDay,endDay):\n",
    "    yearDigit[i - startDay] = tradingDate[i]//10000\n",
    "    monthDigit[i - startDay] = tradingDate[i]//100%100"
   ]
  },
  {
   "cell_type": "code",
   "execution_count": 5,
   "id": "d5290720",
   "metadata": {},
   "outputs": [],
   "source": [
    "#储存中证500年月信息\n",
    "numMonth = zz500.shape[1]\n",
    "zz500Year = np.zeros([numMonth])\n",
    "zz500Month = np.zeros([numMonth])\n",
    "for i in range (numMonth):\n",
    "    timeStr = zz500.columns[i].strftime('%Y-%m-%d %H:%M:%S')\n",
    "    yearStr = timeStr[:4]\n",
    "    zz500Year[i] = int(yearStr)\n",
    "    monthStr = timeStr[5:7]\n",
    "    zz500Month[i] = int(monthStr)"
   ]
  },
  {
   "cell_type": "code",
   "execution_count": 6,
   "id": "1c66155e",
   "metadata": {},
   "outputs": [],
   "source": [
    "# 挑出要选的样本,用表isValid作标记\n",
    "isValid = np.zeros((validDays,stocks))\n",
    "for i in range(startDay,endDay):\n",
    "    for j in range(stocks):\n",
    "        if listedDays[i][j] > 60 and stStatus[i][j] == 0 and dailyStatus[i-1][j] == 1 and dailyStatus[i][j] == 1 and openPrice[i][j] < closePrice[i-1][j] and openPrice[i][j]/closePrice[i-1][j] - 1 > -0.098:\n",
    "            isValid[i-startDay][j] = 1\n",
    "        else: \n",
    "            isValid[i-startDay][j] = 0"
   ]
  },
  {
   "cell_type": "code",
   "execution_count": 7,
   "id": "7457cd87",
   "metadata": {},
   "outputs": [],
   "source": [
    "#尋找列數\n",
    "def find_col(x):\n",
    "    yearDigit = tradingDate[x]//10000\n",
    "    monthDigit = tradingDate[x]//100%100\n",
    "    col_index = (yearDigit - 2007)*12 + monthDigit - 1\n",
    "    return col_index"
   ]
  },
  {
   "cell_type": "code",
   "execution_count": 8,
   "id": "8dcebb5b",
   "metadata": {},
   "outputs": [],
   "source": [
    "#是否为中证500成分股\n",
    "isZz500 = np.zeros((validDays,stocks))\n",
    "for j in range(validDays):\n",
    "    for k in range(stocks):\n",
    "        i = find_col(validDays + startDay)\n",
    "        if stockCode[0][k][0] in zz500.iloc[:,i].values:\n",
    "                isZz500[j][k] = 1"
   ]
  },
  {
   "cell_type": "code",
   "execution_count": 9,
   "id": "5c836e6c",
   "metadata": {},
   "outputs": [],
   "source": [
    "# 辅助函数，用于计算值X在数组V中的排序位置\n",
    "def percentile_rank(x,v):\n",
    "    return (v <= x).sum() / len(v)"
   ]
  },
  {
   "cell_type": "code",
   "execution_count": 10,
   "id": "9554eb65",
   "metadata": {},
   "outputs": [],
   "source": [
    "# 辅助函数，计算Q\n",
    "def calculateQ(stock,dayIndex):\n",
    "    turnoverArray = np.zeros(60)\n",
    "    for i in range(dayIndex - 60, dayIndex):\n",
    "        turnoverArray[i - dayIndex + 60] = turnOver[i][stock]\n",
    "    return percentile_rank(turnOver[dayIndex-1][stock],turnoverArray)"
   ]
  },
  {
   "cell_type": "code",
   "execution_count": 11,
   "id": "d18660cb",
   "metadata": {},
   "outputs": [],
   "source": [
    "# 计算换手率，归入相应组别,存于表turnOverQ中\n",
    "turnOverQ = np.zeros((validDays,stocks))\n",
    "for i in range(startDay,endDay):\n",
    "    sampleList = []\n",
    "    for j in range(stocks):\n",
    "        if isValid[i-startDay][j] == 1 and isZz500[i-startDay][j] == 1:\n",
    "            sampleList.append(calculateQ(j,i))\n",
    "    sampleArray = np.array(sampleList)\n",
    "    for j in range(stocks):\n",
    "        if isValid[i-startDay][j] == 1 and isZz500[i-startDay][j] == 1:\n",
    "            percentile = percentile_rank(calculateQ(j,i),sampleArray)\n",
    "            if percentile != 1:\n",
    "                turnOverQ[i - startDay][j] = percentile * 100 // 20 + 1\n",
    "            else:\n",
    "                turnOverQ[i - startDay][j] = 5"
   ]
  },
  {
   "cell_type": "code",
   "execution_count": 12,
   "id": "c4c4f19f",
   "metadata": {},
   "outputs": [
    {
     "data": {
      "text/plain": [
       "array([[0., 0., 0., ..., 0., 0., 0.],\n",
       "       [0., 0., 0., ..., 0., 0., 0.],\n",
       "       [0., 0., 0., ..., 0., 0., 0.],\n",
       "       ...,\n",
       "       [0., 0., 0., ..., 0., 0., 0.],\n",
       "       [0., 0., 0., ..., 0., 0., 0.],\n",
       "       [0., 0., 0., ..., 0., 0., 0.]])"
      ]
     },
     "execution_count": 12,
     "metadata": {},
     "output_type": "execute_result"
    }
   ],
   "source": [
    "turnOverQ"
   ]
  },
  {
   "cell_type": "code",
   "execution_count": 13,
   "id": "31bc9dba",
   "metadata": {},
   "outputs": [],
   "source": [
    "# 计算所选样本当日回报率\n",
    "returnArray = np.zeros((5,validDays))   # 记录每一天每个组别回报率累计\n",
    "counter = np.zeros((5,validDays))     # 记录每一天每个组别样本数\n",
    "lowPriceF = sci.loadmat(fileDrive+'\\AllStock_DailyLow_dividend.mat')\n",
    "lowPrice = lowPriceF['AllStock_DailyLow_dividend']\n",
    "for i in range(startDay,endDay): \n",
    "    for j in range(stocks):\n",
    "        if isValid[i - startDay][j] == 1 and isZz500[i-startDay][j] == 1:\n",
    "            if lowPrice[i][j]/closePrice[i-1][j] - 1 < -0.098:\n",
    "                returnRate = lowPrice[i][j]/openPrice[i][j] - 1\n",
    "            else:\n",
    "                returnRate = closePrice[i][j]/openPrice[i][j] - 1\n",
    "            returnArray[int(turnOverQ[i - startDay][j]) - 1][i - startDay] = returnArray[int(turnOverQ[i - startDay][j]) - 1][i- startDay] + returnRate\n",
    "            counter[int(turnOverQ[i - startDay][j]) - 1][i - startDay] = counter[int(turnOverQ[i - startDay][j]) - 1][i - startDay] + 1\n",
    "\n",
    "dailyAverageReturn = np.zeros([5,validDays])\n",
    "for i in range(5):\n",
    "    for j in range (validDays):\n",
    "        if counter[i][j] != 0:\n",
    "            dailyAverageReturn[i][j] = returnArray[i][j] / counter[i][j]"
   ]
  },
  {
   "cell_type": "code",
   "execution_count": 14,
   "id": "2c91b2fc",
   "metadata": {},
   "outputs": [
    {
     "data": {
      "image/png": "[encoded data removed]",
      "text/plain": [
       "<Figure size 432x288 with 1 Axes>"
      ]
     },
     "metadata": {
      "needs_background": "light"
     },
     "output_type": "display_data"
    }
   ],
   "source": [
    "averageReturn = np.average(dailyAverageReturn, axis=1) \n",
    "plt.bar(range(1,len(averageReturn)+1), averageReturn)\n",
    "plt.show()"
   ]
  }
 ],
 "metadata": {
  "kernelspec": {
   "display_name": "Python 3 (ipykernel)",
   "language": "python",
   "name": "python3"
  },
  "language_info": {
   "codemirror_mode": {
    "name": "ipython",
    "version": 3
   },
   "file_extension": ".py",
   "mimetype": "text/x-python",
   "name": "python",
   "nbconvert_exporter": "python",
   "pygments_lexer": "ipython3",
   "version": "3.9.12"
  }
 },
 "nbformat": 4,
 "nbformat_minor": 5
}
